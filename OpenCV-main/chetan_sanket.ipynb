{
 "cells": [
  {
   "cell_type": "code",
   "execution_count": null,
   "id": "08a41ea0",
   "metadata": {},
   "outputs": [],
   "source": [
    "# only for cuda enabled laptop and desktop\n",
    "import tensorflow as tf\n",
    "physical_devices = tf.config.experimental.list_physical_devices('GPU')\n",
    "print(physical_devices)\n",
    "if physical_devices:\n",
    "  tf.config.experimental.set_memory_growth(physical_devices[0], True)"
   ]
  },
  {
   "cell_type": "code",
   "execution_count": null,
   "id": "69e40bc6",
   "metadata": {},
   "outputs": [],
   "source": [
    "from keras.preprocessing.image import array_to_img, img_to_array, load_img\n",
    "\n",
    "import os\n",
    "\n",
    "for fname in os.listdir('My_Data/train/Chetan'):\n",
    "  print(fname)"
   ]
  },
  {
   "cell_type": "code",
   "execution_count": null,
   "id": "3b2ae6b1",
   "metadata": {},
   "outputs": [],
   "source": [
    "for fname in os.listdir('My_Data/train/Sanket'):\n",
    "  print(fname)"
   ]
  },
  {
   "cell_type": "code",
   "execution_count": null,
   "id": "9b9ff9e9",
   "metadata": {},
   "outputs": [],
   "source": [
    "image_1 = load_img('My_Data/train/Sanket/sanket_1.jpg')\n",
    "image_1"
   ]
  },
  {
   "cell_type": "code",
   "execution_count": null,
   "id": "62084d7d",
   "metadata": {},
   "outputs": [],
   "source": [
    "path = os.path.join('My_Data')\n",
    "train_dir = os.path.join(path,'train')\n",
    "validation_dir = os.path.join(path,'validation')\n",
    "train_chetan_dir = os.path.join(train_dir,'Chetan')\n",
    "train_sanket_dir = os.path.join(train_dir,'Sanket')\n",
    "validation_chetan_dir = os.path.join(validation_dir,'Chetan')\n",
    "validation_sanket_dir = os.path.join(validation_dir,'Sanket')"
   ]
  },
  {
   "cell_type": "code",
   "execution_count": null,
   "id": "7eb71133",
   "metadata": {},
   "outputs": [],
   "source": [
    "num_chetan_tr = len(os.listdir(train_chetan_dir))\n",
    "num_sanket_tr = len(os.listdir(train_sanket_dir))\n",
    "num_chetan_val = len(os.listdir(validation_chetan_dir))\n",
    "num_sanket_val = len(os.listdir(validation_sanket_dir))"
   ]
  },
  {
   "cell_type": "code",
   "execution_count": null,
   "id": "e5934b89",
   "metadata": {},
   "outputs": [],
   "source": [
    "total_train=num_chetan_tr+num_sanket_tr\n",
    "total_val=num_chetan_val+num_sanket_val\n",
    "print(total_train)\n",
    "print(total_val)"
   ]
  },
  {
   "cell_type": "code",
   "execution_count": null,
   "id": "b69fbc05",
   "metadata": {},
   "outputs": [],
   "source": [
    "epochs = 50\n",
    "IMG_HIEGHT = 150\n",
    "IMG_WIDHT = 150"
   ]
  },
  {
   "cell_type": "code",
   "execution_count": null,
   "id": "672919af",
   "metadata": {},
   "outputs": [],
   "source": [
    "import tensorflow as tf\n",
    "from tensorflow.keras.models import Sequential\n",
    "from tensorflow.keras.layers import Dense,Conv2D,Flatten,Dropout,MaxPooling2D\n",
    "from tensorflow.keras.preprocessing.image import ImageDataGenerator\n",
    "import os\n",
    "import numpy as np\n",
    "import matplotlib.pyplot as plt"
   ]
  },
  {
   "cell_type": "code",
   "execution_count": null,
   "id": "524e71d2",
   "metadata": {},
   "outputs": [],
   "source": [
    "image_gen_train = ImageDataGenerator(rescale=1./255,\n",
    "                                    rotation_range=45,\n",
    "                                    width_shift_range=.15,\n",
    "                                    height_shift_range=.15,\n",
    "                                    horizontal_flip=True,\n",
    "                                     vertical_flip=True,\n",
    "                                     brightness_range=[0.5,1.5],\n",
    "                                    zoom_range=0.5)"
   ]
  },
  {
   "cell_type": "code",
   "execution_count": null,
   "id": "390ff5fd",
   "metadata": {},
   "outputs": [],
   "source": [
    "train_data_gen = image_gen_train.flow_from_directory(directory=train_dir,\n",
    "                                                    shuffle=True,\n",
    "                                                    target_size=(IMG_HIEGHT,IMG_HIEGHT),\n",
    "                                                    class_mode='binary')"
   ]
  },
  {
   "cell_type": "code",
   "execution_count": null,
   "id": "31feb26b",
   "metadata": {},
   "outputs": [],
   "source": [
    "def plotImages(images_arr):\n",
    "    fig, axes = plt.subplots(1,7,figsize=(20,20))\n",
    "    axes = axes.flatten()\n",
    "    for img,ax in zip(images_arr,axes):\n",
    "        ax.imshow(img)\n",
    "        ax.axis('off')\n",
    "    plt.tight_layout()\n",
    "    plt.show()"
   ]
  },
  {
   "cell_type": "code",
   "execution_count": null,
   "id": "33bb65fa",
   "metadata": {},
   "outputs": [],
   "source": [
    "augmented_images = [train_data_gen[0][0][0] for i in range(7)]\n",
    "plotImages(augmented_images)"
   ]
  },
  {
   "cell_type": "code",
   "execution_count": null,
   "id": "3a058f0b",
   "metadata": {},
   "outputs": [],
   "source": [
    "image_gen_val = ImageDataGenerator(rescale=1./255)\n",
    "val_data_gen = image_gen_val.flow_from_directory(directory=validation_dir,\n",
    "                                                target_size=(IMG_HIEGHT,IMG_WIDHT),\n",
    "                                                class_mode='binary')"
   ]
  },
  {
   "cell_type": "code",
   "execution_count": null,
   "id": "e6a92945",
   "metadata": {},
   "outputs": [],
   "source": [
    "model = Sequential([\n",
    "    Conv2D(16,3,padding='same',activation='relu',input_shape=(IMG_HIEGHT,IMG_WIDHT,3)),\n",
    "    MaxPooling2D(),\n",
    "    Dropout(0.2),\n",
    "    Conv2D(32,3,padding='same',activation='relu'),\n",
    "    MaxPooling2D(),\n",
    "    Dropout(0.2),\n",
    "    Conv2D(64,3,padding='same',activation='relu'),\n",
    "    MaxPooling2D(),\n",
    "    Dropout(0.2),\n",
    "    Flatten(),\n",
    "    Dense(512,activation='relu'),\n",
    "    Dense(256,activation='relu'),\n",
    "    Dense(128,activation='relu'),\n",
    "    Dense(1,activation='sigmoid')\n",
    "])"
   ]
  },
  {
   "cell_type": "code",
   "execution_count": null,
   "id": "c04e4374",
   "metadata": {},
   "outputs": [],
   "source": [
    "model.compile(optimizer='adam',loss='binary_crossentropy',metrics=['accuracy'])"
   ]
  },
  {
   "cell_type": "code",
   "execution_count": null,
   "id": "95fc48ea",
   "metadata": {},
   "outputs": [],
   "source": [
    "history = model.fit_generator(train_data_gen,epochs=epochs,validation_data=val_data_gen)"
   ]
  },
  {
   "cell_type": "code",
   "execution_count": null,
   "id": "6e07656c",
   "metadata": {},
   "outputs": [],
   "source": [
    "acc = history.history['accuracy']\n",
    "val_acc = history.history['val_accuracy']\n",
    "loss = history.history['loss']\n",
    "val_loss = history.history['val_loss']\n",
    "epochs_range = range(epochs)\n",
    "plt.figure(figsize=(8,4))\n",
    "plt.subplot(1,2,1)\n",
    "plt.plot(epochs_range,acc,label='Training Accuracy')\n",
    "plt.plot(epochs_range,val_acc,label='Val Accuracy')\n",
    "plt.legend(loc='lower right')\n",
    "plt.title('Accuracy')\n",
    "plt.subplot(1,2,2)\n",
    "plt.plot(epochs_range,loss,label='Training Loss')\n",
    "plt.plot(epochs_range,val_loss,label='Val LOss')\n",
    "plt.legend(loc='lower right')\n",
    "plt.title('Loss')\n",
    "plt.show()"
   ]
  },
  {
   "cell_type": "code",
   "execution_count": null,
   "id": "d5c0e688",
   "metadata": {},
   "outputs": [],
   "source": [
    "data_1 = load_img('My_Data/train/Sanket/sanket_13.jpg',target_size=(IMG_HIEGHT,IMG_WIDHT))\n",
    "data_1"
   ]
  },
  {
   "cell_type": "code",
   "execution_count": null,
   "id": "ca735d63",
   "metadata": {},
   "outputs": [],
   "source": [
    "data_2 = img_to_array(data_1)\n",
    "img_test = data_2.reshape(1,150,150,3)"
   ]
  },
  {
   "cell_type": "code",
   "execution_count": null,
   "id": "a165a3e3",
   "metadata": {},
   "outputs": [],
   "source": [
    "pred = model.predict(img_test)\n",
    "int(pred[0][0])"
   ]
  },
  {
   "cell_type": "code",
   "execution_count": null,
   "id": "daed977c",
   "metadata": {},
   "outputs": [],
   "source": [
    "class_name = ['Chetan','Sanket']\n",
    "#testing cascad\n",
    "import cv2\n",
    "import numpy as np\n",
    "face_cascade = cv2.CascadeClassifier('haarcascade_frontalface_default.xml')\n",
    "font = cv2.FONT_HERSHEY_SIMPLEX\n",
    "# To capture video from webcam. \n",
    "cap = cv2.VideoCapture(0)\n",
    "# To use a video file as input \n",
    "# cap = cv2.VideoCapture('filename.mp4')\n",
    "while True:\n",
    "    # Read the frame\n",
    "    _, img = cap.read()\n",
    "\n",
    "    # Convert to grayscale\n",
    "    gray = cv2.cvtColor(img, cv2.COLOR_BGR2GRAY)\n",
    "    test = img\n",
    "    test = cv2.resize(test,(150,150))\n",
    "    test = test.reshape(1,150,150,3)\n",
    "    iden = []\n",
    "    pred = model.predict(test)\n",
    "    iden.append(int(pred[0][0]))\n",
    "    print(iden)\n",
    "    \n",
    "\n",
    "    # Detect the faces\n",
    "    faces = face_cascade.detectMultiScale(gray, 1.3, 5)\n",
    "    #print(faces.shape)\n",
    "    # Draw the rectangle around each face\n",
    "    for (x, y, w, h) in faces:\n",
    "        cv2.rectangle(img, (x, y), (x+w, y+h), (255, 0, 0), 2)\n",
    "        cv2.putText(img, str(class_name[int(pred[0][0])]), (x+5,y-5), font, 1, (255,0,0), 4)\n",
    "\n",
    "    # Display\n",
    "    cv2.imshow('img', img)\n",
    "\n",
    "    # Stop if escape key is pressed\n",
    "    if cv2.waitKey(1) & 0xFF == ord('q'):\n",
    "        break\n",
    "        \n",
    "# Release the VideoCapture object\n",
    "cap.release()\n",
    "cv2.destroyAllWindows()"
   ]
  },
  {
   "cell_type": "code",
   "execution_count": null,
   "id": "2919afb5",
   "metadata": {},
   "outputs": [],
   "source": []
  }
 ],
 "metadata": {
  "kernelspec": {
   "display_name": "Python 3",
   "language": "python",
   "name": "python3"
  },
  "language_info": {
   "codemirror_mode": {
    "name": "ipython",
    "version": 3
   },
   "file_extension": ".py",
   "mimetype": "text/x-python",
   "name": "python",
   "nbconvert_exporter": "python",
   "pygments_lexer": "ipython3",
   "version": "3.6.13"
  }
 },
 "nbformat": 4,
 "nbformat_minor": 5
}
